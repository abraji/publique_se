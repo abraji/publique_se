{
 "cells": [
  {
   "cell_type": "code",
   "execution_count": null,
   "id": "7bace76f-bb64-4583-9400-b0d2c002e0d9",
   "metadata": {},
   "outputs": [],
   "source": [
    "import re, os, sys\n",
    "import requests\n",
    "import time\n",
    "\n",
    "from datetime import datetime\n",
    "from pathlib import Path"
   ]
  },
  {
   "cell_type": "markdown",
   "id": "8eee8674-d753-4814-8fbf-1e0259b41758",
   "metadata": {},
   "source": [
    "# Config"
   ]
  },
  {
   "cell_type": "code",
   "execution_count": null,
   "id": "b77a1083-7ff6-4eca-ac92-d5c4a0c9c7ca",
   "metadata": {},
   "outputs": [],
   "source": [
    "# Determinar o path deste notebook\n",
    "DIR = Path().resolve()\n",
    "\n",
    "# Subir o diretório de trabalho para a raíz do proje\n",
    "PROJECT = DIR.parent\n",
    "\n",
    "# Verificar se a raíz é o diretório de trabalho\n",
    "os.chdir(PROJECT)"
   ]
  },
  {
   "cell_type": "code",
   "execution_count": null,
   "id": "bf00ef99-53ff-44cc-b66d-0db741ef29db",
   "metadata": {},
   "outputs": [],
   "source": [
    "# Carregar chave de acesso da pasta /test\n",
    "with open(PROJECT / 'tests/api_key.txt', 'r') as fp:\n",
    "    digesto_key = fp.readline()\n",
    "    digesto_key = digesto_key.replace('\\n', '')\n",
    "    \n",
    "# Verificar key\n",
    "digesto_key"
   ]
  },
  {
   "cell_type": "markdown",
   "id": "5c55666d-6439-47ce-8dd5-c772792c11fe",
   "metadata": {},
   "source": [
    "# Digesto"
   ]
  },
  {
   "cell_type": "code",
   "execution_count": null,
   "id": "0549dee8-45e3-438e-9961-19c5c00ed56e",
   "metadata": {},
   "outputs": [],
   "source": [
    "# Importar o módulo de acesso à API do Digesto\n",
    "sys.path.append(os.path.abspath(os.path.join(\".\")))\n",
    "from publiquese import Digesto"
   ]
  },
  {
   "cell_type": "code",
   "execution_count": null,
   "id": "22d61552-37db-4f40-a690-a2b5e00f8fd6",
   "metadata": {},
   "outputs": [],
   "source": [
    "# Executar funções do módulo do Digesto\n",
    "Digesto = Digesto(digesto_key)\n",
    "\n",
    "# 1. Baixar dados dos processos. Verificar que temos o \n",
    "# mesmo processo em mãos. Este é o processo Holiday vs. Ciro Gomes.\n",
    "r01 = Digesto.baixar_processo(\"1021887-19.2020.8.26.0100\")\n",
    "r02 = Digesto.baixar_processo(\"399037238\")\n",
    "r01.json() == r02.json()"
   ]
  },
  {
   "cell_type": "code",
   "execution_count": null,
   "id": "ed680eed-b5c8-487f-8910-ccebd33cd4d9",
   "metadata": {},
   "outputs": [],
   "source": [
    "# 2. Verificar um processo antigo\n",
    "r02 = Digesto.baixar_processo(\"0032615-90.2019.1.00.0000\")\n",
    "datas = r02.json()['acessos']\n",
    "\n",
    "data_update = max(datas)\n",
    "data_update = datetime.strptime(data_update, '%Y-%m-%d %H:%M:%S')\n",
    "diff = datetime.today() - data_update\n",
    "\n",
    "if diff <= 3:\n",
    "    print('Esse processo pode ser atualizado')\n"
   ]
  },
  {
   "cell_type": "code",
   "execution_count": null,
   "id": "b67359c1-559f-4658-98e9-236f850ba15b",
   "metadata": {},
   "outputs": [],
   "source": [
    "# 3. Atualizar processo antigo\n",
    "r04 = Digesto.atualizar_processo(\"1021887-19.2020.8.26.0100\")\n",
    "\n",
    "# Esperar 10 minutos e fazer nova chamda\n",
    "r05 =  Digesto.baixar_processo(\"0032615-90.2019.1.00.0000\")\n",
    "datas = r02.json()['acessos']\n",
    "data_update = max(datas)\n",
    "data_update = datetime.strptime(data_update, '%Y-%m-%d %H:%M:%S')\n",
    "print(f'A última data de atualizações deste processo é: {data_update}')"
   ]
  },
  {
   "cell_type": "markdown",
   "id": "ca1ac465-04d2-48f8-9f79-2e615cd626f3",
   "metadata": {},
   "source": [
    "# Jusbrasil"
   ]
  },
  {
   "cell_type": "code",
   "execution_count": null,
   "id": "9a5c4130-2979-4276-bab1-6dc77a7ad870",
   "metadata": {},
   "outputs": [],
   "source": [
    "# Ainda não implementado."
   ]
  }
 ],
 "metadata": {
  "kernelspec": {
   "display_name": "Python 3 (ipykernel)",
   "language": "python",
   "name": "python3"
  },
  "language_info": {
   "codemirror_mode": {
    "name": "ipython",
    "version": 3
   },
   "file_extension": ".py",
   "mimetype": "text/x-python",
   "name": "python",
   "nbconvert_exporter": "python",
   "pygments_lexer": "ipython3",
   "version": "3.9.6"
  }
 },
 "nbformat": 4,
 "nbformat_minor": 5
}
